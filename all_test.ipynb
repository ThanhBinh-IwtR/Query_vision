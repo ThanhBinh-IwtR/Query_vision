{
 "cells": [
  {
   "cell_type": "code",
   "execution_count": 2,
   "metadata": {},
   "outputs": [
    {
     "name": "stdout",
     "output_type": "stream",
     "text": [
      "prompt_gen\\elements_0_prompts.txt\n",
      "prompt_gen\\elements_1_prompts.txt\n"
     ]
    },
    {
     "ename": "TypeError",
     "evalue": "'NoneType' object is not iterable",
     "output_type": "error",
     "traceback": [
      "\u001b[1;31m---------------------------------------------------------------------------\u001b[0m",
      "\u001b[1;31mTypeError\u001b[0m                                 Traceback (most recent call last)",
      "Cell \u001b[1;32mIn[2], line 6\u001b[0m\n\u001b[0;32m      4\u001b[0m prompts_output_folder \u001b[38;5;241m=\u001b[39m \u001b[38;5;124m\"\u001b[39m\u001b[38;5;124mprompt_gen\u001b[39m\u001b[38;5;124m\"\u001b[39m  \u001b[38;5;66;03m# Đường dẫn để lưu prompts\u001b[39;00m\n\u001b[0;32m      5\u001b[0m prompts_file_paths \u001b[38;5;241m=\u001b[39m generate_prompts(elements_folder, prompts_output_folder)\n\u001b[1;32m----> 6\u001b[0m \u001b[38;5;28;01mfor\u001b[39;00m prompt_file_path \u001b[38;5;129;01min\u001b[39;00m prompts_file_paths:\n\u001b[0;32m      7\u001b[0m     \u001b[38;5;28mprint\u001b[39m(\u001b[38;5;124mf\u001b[39m\u001b[38;5;124m\"\u001b[39m\u001b[38;5;124mGenerated prompts at \u001b[39m\u001b[38;5;132;01m{\u001b[39;00mprompt_file_path\u001b[38;5;132;01m}\u001b[39;00m\u001b[38;5;124m\"\u001b[39m)\n",
      "\u001b[1;31mTypeError\u001b[0m: 'NoneType' object is not iterable"
     ]
    }
   ],
   "source": [
    "from prompt_gen import generate_prompts \n",
    "\n",
    "elements_folder = \"elements\"  # Đường dẫn đến thư mục elements\n",
    "prompts_output_folder = \"prompt_gen\"  # Đường dẫn để lưu prompts\n",
    "prompts_file_paths = generate_prompts(elements_folder, prompts_output_folder)\n",
    "for prompt_file_path in prompts_file_paths:\n",
    "    print(f\"Generated prompts at {prompt_file_path}\")"
   ]
  },
  {
   "cell_type": "code",
   "execution_count": 48,
   "metadata": {},
   "outputs": [],
   "source": [
    "import os\n",
    "import pandas as pd\n",
    "import csv\n",
    "import json\n",
    "import re"
   ]
  },
  {
   "cell_type": "code",
   "execution_count": 49,
   "metadata": {},
   "outputs": [],
   "source": [
    "raw_sentence_file = 'prompt_gen/elements_0000_prompts.txt'"
   ]
  },
  {
   "cell_type": "code",
   "execution_count": 50,
   "metadata": {},
   "outputs": [],
   "source": [
    "elements_folder = 'elements'"
   ]
  },
  {
   "cell_type": "code",
   "execution_count": 51,
   "metadata": {},
   "outputs": [],
   "source": [
    "with open(raw_sentence_file, 'r') as file:\n",
    "        raw_sentences = [line.strip() for line in file.readlines()]"
   ]
  },
  {
   "cell_type": "code",
   "execution_count": 52,
   "metadata": {},
   "outputs": [],
   "source": [
    "def find_matching_ids(prompt, element_data):\n",
    "    \"\"\"Find unique IDs that match the given prompt based on the element data.\"\"\"\n",
    "    prompt_lower = prompt.lower()  # Convert the prompt to lowercase for case-insensitive matching\n",
    "    matching_ids = set()  # Use a set to store unique IDs\n",
    "    for element in element_data:\n",
    "        cls_id = element['class_id']\n",
    "        color = element.get('color') or ''\n",
    "        action = element.get('action') or ''\n",
    "        gender = element.get('gender') or ''\n",
    "        # Check if both color and action are in the prompt (case-insensitive)\n",
    "        if (color in prompt_lower or not color) and (action in prompt_lower or not action) and (gender in prompt_lower or not gender):\n",
    "            matching_ids.add(cls_id)  # Add to set for uniqueness\n",
    "    return list(matching_ids)  # Convert to list before returning"
   ]
  },
  {
   "cell_type": "code",
   "execution_count": 53,
   "metadata": {},
   "outputs": [],
   "source": [
    "def parse_elements(elements_folder,subfolder_path):\n",
    "    \"\"\"Parse the elements CSV files to collect the data.\"\"\"\n",
    "    element_data = []\n",
    "    for file in os.listdir(elements_folder):\n",
    "        if file.endswith(f\"{subfolder_path}.csv\"):\n",
    "            file_path = os.path.join(elements_folder, file)\n",
    "            with open(file_path, mode='r') as csv_file:\n",
    "                reader = csv.DictReader(csv_file)\n",
    "                for row in reader:\n",
    "                    # Strip and convert to lowercase\n",
    "                    color = row['color'].strip().lower() if row['color'] else ''\n",
    "                    action = row['action'].strip().lower() if row['action'] else ''\n",
    "                    gender = row['gender'].strip().lower() if row['gender'] else ''\n",
    "                    \n",
    "                    # Only include rows where both color and action are not empty\n",
    "                    if color and action and gender:\n",
    "                        element_data.append({\n",
    "                            'frame_id': int(row['frame_id']),\n",
    "                            'class_id': int(row['class_id']),\n",
    "                            'color': color,\n",
    "                            'action': action,\n",
    "                            'gender': gender\n",
    "                        })\n",
    "    return element_data"
   ]
  },
  {
   "cell_type": "code",
   "execution_count": 76,
   "metadata": {},
   "outputs": [
    {
     "name": "stdout",
     "output_type": "stream",
     "text": [
      "[{'frame_id': 0, 'class_id': 1, 'color': 'black uniform', 'action': 'checking out', 'gender': 'male'}, {'frame_id': 0, 'class_id': 2, 'color': 'black jacket', 'action': 'checking out', 'gender': 'male'}, {'frame_id': 0, 'class_id': 3, 'color': 'blue jacket', 'action': 'waiting checkout', 'gender': 'male'}, {'frame_id': 0, 'class_id': 4, 'color': 'red jacket', 'action': 'waiting checkout', 'gender': 'male'}, {'frame_id': 0, 'class_id': 5, 'color': 'white jacket', 'action': 'walking', 'gender': 'male'}, {'frame_id': 0, 'class_id': 6, 'color': 'red jacker', 'action': 'walking', 'gender': 'male'}, {'frame_id': 0, 'class_id': 7, 'color': 'black uniform', 'action': 'checking out', 'gender': 'male'}, {'frame_id': 0, 'class_id': 8, 'color': 'black jacket', 'action': 'walking', 'gender': 'male'}, {'frame_id': 1, 'class_id': 1, 'color': 'black uniform', 'action': 'checking out', 'gender': 'male'}, {'frame_id': 1, 'class_id': 2, 'color': 'black jacket', 'action': 'checking out', 'gender': 'male'}, {'frame_id': 1, 'class_id': 6, 'color': 'red jacket', 'action': 'walking', 'gender': 'male'}, {'frame_id': 1, 'class_id': 8, 'color': 'black jacket', 'action': 'walking', 'gender': 'male'}, {'frame_id': 1, 'class_id': 3, 'color': 'blue jacket', 'action': 'checking out', 'gender': 'male'}, {'frame_id': 1, 'class_id': 4, 'color': 'red jacket', 'action': 'waiting checkout', 'gender': 'male'}, {'frame_id': 1, 'class_id': 5, 'color': 'white jacket', 'action': 'walking', 'gender': 'male'}, {'frame_id': 1, 'class_id': 7, 'color': 'black uniform', 'action': 'checking out', 'gender': 'male'}, {'frame_id': 2, 'class_id': 1, 'color': 'black uniform', 'action': 'checking out', 'gender': 'male'}, {'frame_id': 2, 'class_id': 2, 'color': 'black jacket', 'action': 'checking out', 'gender': 'male'}, {'frame_id': 2, 'class_id': 3, 'color': 'blue jacket', 'action': 'waiting checkout', 'gender': 'male'}, {'frame_id': 2, 'class_id': 4, 'color': 'red jacket', 'action': 'waiting checkout', 'gender': 'male'}, {'frame_id': 2, 'class_id': 5, 'color': 'white jacket', 'action': 'walking', 'gender': 'male'}, {'frame_id': 2, 'class_id': 6, 'color': 'red jacket', 'action': 'walking', 'gender': 'male'}, {'frame_id': 2, 'class_id': 7, 'color': 'black uniform', 'action': 'checking out', 'gender': 'male'}, {'frame_id': 2, 'class_id': 8, 'color': 'black jacket', 'action': 'walking', 'gender': 'male'}, {'frame_id': 3, 'class_id': 1, 'color': 'black uniform', 'action': 'checking out', 'gender': 'male'}, {'frame_id': 3, 'class_id': 2, 'color': 'black jacket', 'action': 'checking out', 'gender': 'male'}, {'frame_id': 3, 'class_id': 3, 'color': 'blue jacket', 'action': 'waiting checkout', 'gender': 'male'}, {'frame_id': 3, 'class_id': 4, 'color': 'red jacket', 'action': 'waiting checkout', 'gender': 'male'}, {'frame_id': 3, 'class_id': 8, 'color': 'black jacket', 'action': 'walking', 'gender': 'male'}, {'frame_id': 6, 'class_id': 1, 'color': 'black shirt', 'action': 'checking out', 'gender': 'male'}]\n"
     ]
    }
   ],
   "source": [
    "print(element_data)"
   ]
  },
  {
   "cell_type": "code",
   "execution_count": 58,
   "metadata": {},
   "outputs": [],
   "source": [
    "element_data = parse_elements(elements_folder, subfolder_path)"
   ]
  },
  {
   "cell_type": "code",
   "execution_count": 59,
   "metadata": {},
   "outputs": [
    {
     "name": "stdout",
     "output_type": "stream",
     "text": [
      "[{'frame_id': 0, 'class_id': 1, 'color': 'black uniform', 'action': 'checking out', 'gender': 'male'}, {'frame_id': 0, 'class_id': 2, 'color': 'black jacket', 'action': 'checking out', 'gender': 'male'}, {'frame_id': 0, 'class_id': 3, 'color': 'blue jacket', 'action': 'waiting checkout', 'gender': 'male'}, {'frame_id': 0, 'class_id': 4, 'color': 'red jacket', 'action': 'waiting checkout', 'gender': 'male'}, {'frame_id': 0, 'class_id': 5, 'color': 'white jacket', 'action': 'walking', 'gender': 'male'}, {'frame_id': 0, 'class_id': 6, 'color': 'red jacker', 'action': 'walking', 'gender': 'male'}, {'frame_id': 0, 'class_id': 7, 'color': 'black uniform', 'action': 'checking out', 'gender': 'male'}, {'frame_id': 0, 'class_id': 8, 'color': 'black jacket', 'action': 'walking', 'gender': 'male'}, {'frame_id': 1, 'class_id': 1, 'color': 'black uniform', 'action': 'checking out', 'gender': 'male'}, {'frame_id': 1, 'class_id': 2, 'color': 'black jacket', 'action': 'checking out', 'gender': 'male'}, {'frame_id': 1, 'class_id': 6, 'color': 'red jacket', 'action': 'walking', 'gender': 'male'}, {'frame_id': 1, 'class_id': 8, 'color': 'black jacket', 'action': 'walking', 'gender': 'male'}, {'frame_id': 1, 'class_id': 3, 'color': 'blue jacket', 'action': 'checking out', 'gender': 'male'}, {'frame_id': 1, 'class_id': 4, 'color': 'red jacket', 'action': 'waiting checkout', 'gender': 'male'}, {'frame_id': 1, 'class_id': 5, 'color': 'white jacket', 'action': 'walking', 'gender': 'male'}, {'frame_id': 1, 'class_id': 7, 'color': 'black uniform', 'action': 'checking out', 'gender': 'male'}, {'frame_id': 2, 'class_id': 1, 'color': 'black uniform', 'action': 'checking out', 'gender': 'male'}, {'frame_id': 2, 'class_id': 2, 'color': 'black jacket', 'action': 'checking out', 'gender': 'male'}, {'frame_id': 2, 'class_id': 3, 'color': 'blue jacket', 'action': 'waiting checkout', 'gender': 'male'}, {'frame_id': 2, 'class_id': 4, 'color': 'red jacket', 'action': 'waiting checkout', 'gender': 'male'}, {'frame_id': 2, 'class_id': 5, 'color': 'white jacket', 'action': 'walking', 'gender': 'male'}, {'frame_id': 2, 'class_id': 6, 'color': 'red jacket', 'action': 'walking', 'gender': 'male'}, {'frame_id': 2, 'class_id': 7, 'color': 'black uniform', 'action': 'checking out', 'gender': 'male'}, {'frame_id': 2, 'class_id': 8, 'color': 'black jacket', 'action': 'walking', 'gender': 'male'}, {'frame_id': 3, 'class_id': 1, 'color': 'black uniform', 'action': 'checking out', 'gender': 'male'}, {'frame_id': 3, 'class_id': 2, 'color': 'black jacket', 'action': 'checking out', 'gender': 'male'}, {'frame_id': 3, 'class_id': 3, 'color': 'blue jacket', 'action': 'waiting checkout', 'gender': 'male'}, {'frame_id': 3, 'class_id': 4, 'color': 'red jacket', 'action': 'waiting checkout', 'gender': 'male'}, {'frame_id': 3, 'class_id': 8, 'color': 'black jacket', 'action': 'walking', 'gender': 'male'}, {'frame_id': 6, 'class_id': 1, 'color': 'black shirt', 'action': 'checking out', 'gender': 'male'}]\n"
     ]
    }
   ],
   "source": [
    "print(element_data)"
   ]
  },
  {
   "cell_type": "code",
   "execution_count": 60,
   "metadata": {},
   "outputs": [
    {
     "name": "stdout",
     "output_type": "stream",
     "text": [
      "A male with black uniform is checking out\n",
      "[1, 7]\n",
      "-----------------------------\n",
      "A male with black jacket is checking out\n",
      "[2]\n",
      "-----------------------------\n",
      "A male with blue jacket is waiting checkout\n",
      "[3]\n",
      "-----------------------------\n",
      "A male with red jacket is waiting checkout\n",
      "[4]\n",
      "-----------------------------\n",
      "A male with white jacket is walking\n",
      "[5]\n",
      "-----------------------------\n",
      "A male with red jacker is walking\n",
      "[6]\n",
      "-----------------------------\n",
      "A male with black jacket is walking\n",
      "[8]\n",
      "-----------------------------\n",
      "A male with red jacket is walking\n",
      "[6]\n",
      "-----------------------------\n",
      "A  with  is\n",
      "[]\n",
      "-----------------------------\n",
      "A male with blue jacket is checking out\n",
      "[3]\n",
      "-----------------------------\n",
      "A male with black shirt is checking out\n",
      "[1]\n",
      "-----------------------------\n"
     ]
    }
   ],
   "source": [
    "for raw_sentence in raw_sentences:\n",
    "            print(raw_sentence)\n",
    "            matching_ids = find_matching_ids(raw_sentence, element_data)\n",
    "            print(matching_ids)\n",
    "            print(\"-----------------------------\")\n",
    "\n"
   ]
  },
  {
   "cell_type": "code",
   "execution_count": 11,
   "metadata": {},
   "outputs": [
    {
     "data": {
      "text/plain": [
       "[1, 7]"
      ]
     },
     "execution_count": 11,
     "metadata": {},
     "output_type": "execute_result"
    }
   ],
   "source": [
    "find_matching_ids('The person wearing a black uniform and checking out.',element_data)"
   ]
  },
  {
   "cell_type": "code",
   "execution_count": 65,
   "metadata": {},
   "outputs": [],
   "source": [
    "prompt = 'A male with black uniform is checking out'"
   ]
  },
  {
   "cell_type": "code",
   "execution_count": 67,
   "metadata": {},
   "outputs": [],
   "source": [
    "prompt_lower = prompt.lower()  # Convert the prompt to lowercase for case-insensitive matching\n",
    "matching_ids = set()  # Use a set to store unique IDs\n",
    "for element in element_data:\n",
    "    cls_id = element['class_id']\n",
    "    color = element.get('color') or ''\n",
    "    action = element.get('action') or ''\n",
    "    gender = element.get('gender') or ''\n",
    "    # Check if both color and action are in the prompt (case-insensitive)\n",
    "    if (color in prompt_lower or not color) and (action in prompt_lower or not action) and (gender in prompt_lower or not gender):\n",
    "        matching_ids.add(cls_id)  # Add to set for uniqueness"
   ]
  },
  {
   "cell_type": "code",
   "execution_count": 68,
   "metadata": {},
   "outputs": [
    {
     "name": "stdout",
     "output_type": "stream",
     "text": [
      "{1, 7}\n"
     ]
    }
   ],
   "source": [
    "print(matching_ids)"
   ]
  },
  {
   "cell_type": "code",
   "execution_count": 69,
   "metadata": {},
   "outputs": [],
   "source": [
    "labels_folder = \"labels_with_ids\""
   ]
  },
  {
   "cell_type": "code",
   "execution_count": 70,
   "metadata": {},
   "outputs": [],
   "source": [
    "subfolder_path = \"0000\""
   ]
  },
  {
   "cell_type": "code",
   "execution_count": 71,
   "metadata": {},
   "outputs": [
    {
     "name": "stdout",
     "output_type": "stream",
     "text": [
      "{'frame_id': '0', 'class_id': '1', 'color': 'black uniform', 'action': 'checking out', 'gender': 'male'}\n",
      "{'frame_id': '0', 'class_id': '2', 'color': 'black jacket', 'action': 'checking out', 'gender': 'male'}\n",
      "{'frame_id': '0', 'class_id': '3', 'color': 'blue jacket', 'action': 'waiting checkout', 'gender': 'male'}\n",
      "{'frame_id': '0', 'class_id': '4', 'color': 'red jacket', 'action': 'waiting checkout', 'gender': 'male'}\n",
      "{'frame_id': '0', 'class_id': '5', 'color': 'white jacket', 'action': 'walking', 'gender': 'male'}\n",
      "{'frame_id': '0', 'class_id': '6', 'color': 'red jacker', 'action': 'walking', 'gender': 'male'}\n",
      "{'frame_id': '0', 'class_id': '7', 'color': 'black uniform', 'action': 'checking out', 'gender': 'male'}\n",
      "{'frame_id': '0', 'class_id': '8', 'color': 'black jacket', 'action': 'walking', 'gender': 'male'}\n",
      "{'frame_id': '1', 'class_id': '1', 'color': 'black uniform', 'action': 'checking out', 'gender': 'male'}\n",
      "{'frame_id': '1', 'class_id': '2', 'color': 'black jacket', 'action': 'checking out', 'gender': 'male'}\n",
      "{'frame_id': '1', 'class_id': '6', 'color': 'red jacket', 'action': 'walking', 'gender': 'male'}\n",
      "{'frame_id': '8', 'class_id': '5', 'color': '', 'action': '', 'gender': ''}\n",
      "{'frame_id': '1', 'class_id': '9', 'color': '', 'action': '', 'gender': ''}\n",
      "{'frame_id': '1', 'class_id': '8', 'color': 'black jacket', 'action': 'walking', 'gender': 'male'}\n",
      "{'frame_id': '1', 'class_id': '3', 'color': 'blue jacket', 'action': 'checking out', 'gender': 'male'}\n",
      "{'frame_id': '1', 'class_id': '4', 'color': 'red jacket', 'action': 'waiting checkout', 'gender': 'male'}\n",
      "{'frame_id': '1', 'class_id': '5', 'color': 'white jacket', 'action': 'walking', 'gender': 'male'}\n",
      "{'frame_id': '1', 'class_id': '7', 'color': 'black uniform', 'action': 'checking out', 'gender': 'male'}\n",
      "{'frame_id': '2', 'class_id': '1', 'color': 'black uniform', 'action': 'checking out', 'gender': 'male'}\n",
      "{'frame_id': '2', 'class_id': '2', 'color': 'black jacket', 'action': 'checking out', 'gender': 'male'}\n",
      "{'frame_id': '2', 'class_id': '3', 'color': 'blue jacket', 'action': 'waiting checkout', 'gender': 'male'}\n",
      "{'frame_id': '2', 'class_id': '4', 'color': 'red jacket', 'action': 'waiting checkout', 'gender': 'male'}\n",
      "{'frame_id': '2', 'class_id': '5', 'color': 'white jacket', 'action': 'walking', 'gender': 'male'}\n",
      "{'frame_id': '2', 'class_id': '6', 'color': 'red jacket', 'action': 'walking', 'gender': 'male'}\n",
      "{'frame_id': '2', 'class_id': '7', 'color': 'black uniform', 'action': 'checking out', 'gender': 'male'}\n",
      "{'frame_id': '2', 'class_id': '8', 'color': 'black jacket', 'action': 'walking', 'gender': 'male'}\n",
      "{'frame_id': '3', 'class_id': '1', 'color': 'black uniform', 'action': 'checking out', 'gender': 'male'}\n",
      "{'frame_id': '3', 'class_id': '2', 'color': 'black jacket', 'action': 'checking out', 'gender': 'male'}\n",
      "{'frame_id': '3', 'class_id': '3', 'color': 'blue jacket', 'action': 'waiting checkout', 'gender': 'male'}\n",
      "{'frame_id': '3', 'class_id': '4', 'color': 'red jacket', 'action': 'waiting checkout', 'gender': 'male'}\n",
      "{'frame_id': '3', 'class_id': '8', 'color': 'black jacket', 'action': 'walking', 'gender': 'male'}\n",
      "{'frame_id': '6', 'class_id': '1', 'color': 'black shirt', 'action': 'checking out', 'gender': 'male'}\n"
     ]
    }
   ],
   "source": [
    "frame_data = {}\n",
    "\n",
    "# Iterate through each CSV file in the elements folder\n",
    "for file in os.listdir(elements_folder):\n",
    "    if file.endswith(f\"{subfolder_path}.csv\"):\n",
    "        file_path = os.path.join(elements_folder, file)\n",
    "        \n",
    "        with open(file_path, 'r') as csv_file:\n",
    "            reader = csv.DictReader(csv_file)\n",
    "            for row in reader:\n",
    "                print(row)\n",
    "                frame_number = int(row['frame_id'])\n",
    "                class_id = int(row['class_id'])\n",
    "\n",
    "                # Check if the class_id is in matching_ids\n",
    "                if class_id in matching_ids:\n",
    "                    if frame_number not in frame_data:\n",
    "                        frame_data[frame_number] = []\n",
    "                    frame_data[frame_number].append(class_id)\n",
    "\n",
    "# Sort class_ids for each frame_number\n",
    "for frame_number in frame_data:\n",
    "    frame_data[frame_number] = sorted(frame_data[frame_number])\n"
   ]
  },
  {
   "cell_type": "code",
   "execution_count": 45,
   "metadata": {},
   "outputs": [
    {
     "data": {
      "text/plain": [
       "'elements\\\\elements_1.csv'"
      ]
     },
     "execution_count": 45,
     "metadata": {},
     "output_type": "execute_result"
    }
   ],
   "source": [
    "file_path"
   ]
  },
  {
   "cell_type": "code",
   "execution_count": 72,
   "metadata": {},
   "outputs": [
    {
     "ename": "ValueError",
     "evalue": "I/O operation on closed file.",
     "output_type": "error",
     "traceback": [
      "\u001b[1;31m---------------------------------------------------------------------------\u001b[0m",
      "\u001b[1;31mValueError\u001b[0m                                Traceback (most recent call last)",
      "Cell \u001b[1;32mIn[72], line 1\u001b[0m\n\u001b[1;32m----> 1\u001b[0m \u001b[38;5;28;01mfor\u001b[39;00m row \u001b[38;5;129;01min\u001b[39;00m reader:\n\u001b[0;32m      2\u001b[0m     \u001b[38;5;28mprint\u001b[39m(row)\n",
      "File \u001b[1;32mc:\\Users\\ADMIN\\anaconda3\\lib\\csv.py:111\u001b[0m, in \u001b[0;36mDictReader.__next__\u001b[1;34m(self)\u001b[0m\n\u001b[0;32m    108\u001b[0m \u001b[38;5;28;01mif\u001b[39;00m \u001b[38;5;28mself\u001b[39m\u001b[38;5;241m.\u001b[39mline_num \u001b[38;5;241m==\u001b[39m \u001b[38;5;241m0\u001b[39m:\n\u001b[0;32m    109\u001b[0m     \u001b[38;5;66;03m# Used only for its side effect.\u001b[39;00m\n\u001b[0;32m    110\u001b[0m     \u001b[38;5;28mself\u001b[39m\u001b[38;5;241m.\u001b[39mfieldnames\n\u001b[1;32m--> 111\u001b[0m row \u001b[38;5;241m=\u001b[39m \u001b[38;5;28;43mnext\u001b[39;49m\u001b[43m(\u001b[49m\u001b[38;5;28;43mself\u001b[39;49m\u001b[38;5;241;43m.\u001b[39;49m\u001b[43mreader\u001b[49m\u001b[43m)\u001b[49m\n\u001b[0;32m    112\u001b[0m \u001b[38;5;28mself\u001b[39m\u001b[38;5;241m.\u001b[39mline_num \u001b[38;5;241m=\u001b[39m \u001b[38;5;28mself\u001b[39m\u001b[38;5;241m.\u001b[39mreader\u001b[38;5;241m.\u001b[39mline_num\n\u001b[0;32m    114\u001b[0m \u001b[38;5;66;03m# unlike the basic reader, we prefer not to return blanks,\u001b[39;00m\n\u001b[0;32m    115\u001b[0m \u001b[38;5;66;03m# because we will typically wind up with a dict full of None\u001b[39;00m\n\u001b[0;32m    116\u001b[0m \u001b[38;5;66;03m# values\u001b[39;00m\n",
      "\u001b[1;31mValueError\u001b[0m: I/O operation on closed file."
     ]
    }
   ],
   "source": [
    "for row in reader:\n",
    "    print(row)"
   ]
  },
  {
   "cell_type": "code",
   "execution_count": 73,
   "metadata": {},
   "outputs": [
    {
     "data": {
      "text/plain": [
       "{0: [1, 7], 1: [1, 7], 2: [1, 7], 3: [1], 6: [1]}"
      ]
     },
     "execution_count": 73,
     "metadata": {},
     "output_type": "execute_result"
    }
   ],
   "source": [
    "frame_data  "
   ]
  },
  {
   "cell_type": "code",
   "execution_count": 74,
   "metadata": {},
   "outputs": [],
   "source": [
    "def sanitize_filename(prompt):\n",
    "    \"\"\"Sanitize the prompt to create a valid filename.\"\"\"\n",
    "    sanitized_prompt = re.sub(r'[<>:\"/\\\\|?*\\n]', '', prompt)  # Remove invalid characters\n",
    "    sanitized_prompt = sanitized_prompt.replace(' ', '_')  # Replace spaces with underscores\n",
    "    sanitized_prompt = sanitized_prompt[:150]  # Optionally truncate to prevent overly long filenames\n",
    "    return sanitized_prompt\n"
   ]
  },
  {
   "cell_type": "code",
   "execution_count": 75,
   "metadata": {},
   "outputs": [
    {
     "name": "stdout",
     "output_type": "stream",
     "text": [
      "{'label': {0: [1, 7], 1: [1, 7], 2: [1, 7], 3: [1], 6: [1]}, 'ignore': [], 'video_name': '0000', 'sentence': 'A person dressed in black clothing was involved in inspecting something.', 'raw_sentence': 'A person in a black uniform engaged in checking out.'}\n"
     ]
    }
   ],
   "source": [
    "generated_sentences = set()  # Store sentences to avoid repetition\n",
    "counter = 0\n",
    "\n",
    "while len(generated_sentences) < 1:\n",
    "    paraphrased_sentence = \"A person dressed in black clothing was involved in inspecting something.\"\n",
    "    if paraphrased_sentence not in generated_sentences:\n",
    "        generated_sentences.add(paraphrased_sentence)\n",
    "        \n",
    "        # Prepare JSON data\n",
    "        json_data = {\n",
    "            \"label\": frame_data,\n",
    "            \"ignore\": [],\n",
    "            \"video_name\": os.path.basename(subfolder_path),  # Use the subfolder name as the video name\n",
    "            \"sentence\": paraphrased_sentence,\n",
    "            \"raw_sentence\": \"A person in a black uniform engaged in checking out.\"\n",
    "        }\n",
    "\n",
    "        # Sanitize filename by removing invalid characters\n",
    "        sanitized_prompt = sanitize_filename(paraphrased_sentence)\n",
    "\n",
    "        # Save JSON file\n",
    "        print(json_data)\n",
    "    "
   ]
  }
 ],
 "metadata": {
  "kernelspec": {
   "display_name": "base",
   "language": "python",
   "name": "python3"
  },
  "language_info": {
   "codemirror_mode": {
    "name": "ipython",
    "version": 3
   },
   "file_extension": ".py",
   "mimetype": "text/x-python",
   "name": "python",
   "nbconvert_exporter": "python",
   "pygments_lexer": "ipython3",
   "version": "3.10.9"
  }
 },
 "nbformat": 4,
 "nbformat_minor": 2
}
